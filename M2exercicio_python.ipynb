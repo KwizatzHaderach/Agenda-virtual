{
  "nbformat": 4,
  "nbformat_minor": 0,
  "metadata": {
    "colab": {
      "provenance": [],
      "include_colab_link": true
    },
    "kernelspec": {
      "name": "python3",
      "display_name": "Python 3"
    }
  },
  "cells": [
    {
      "cell_type": "markdown",
      "metadata": {
        "id": "view-in-github",
        "colab_type": "text"
      },
      "source": [
        "<a href=\"https://colab.research.google.com/github/KwizatzHaderach/Agenda-virtual/blob/main/M2exercicio_python.ipynb\" target=\"_parent\"><img src=\"https://colab.research.google.com/assets/colab-badge.svg\" alt=\"Open In Colab\"/></a>"
      ]
    },
    {
      "cell_type": "markdown",
      "metadata": {
        "id": "KJqp9AANOCtf"
      },
      "source": [
        "<img src=\"https://raw.githubusercontent.com/andre-marcos-perez/ebac-course-utils/main/media/logo/newebac_logo_black_half.png\" alt=\"ebac-logo\">\n",
        "\n",
        "---\n",
        "\n",
        "# **Módulo** | Python: Estruturas de Dados\n",
        "Caderno de **Exercícios**<br>\n",
        "Professor [André Perez](https://www.linkedin.com/in/andremarcosperez/)\n",
        "\n",
        "---"
      ]
    },
    {
      "cell_type": "markdown",
      "metadata": {
        "id": "d9jDtUbDOE1-"
      },
      "source": [
        "# **Tópicos**\n",
        "\n",
        "<ol type=\"1\">\n",
        "  <li>Listas;</li>\n",
        "  <li>Conjuntos;</li>\n",
        "  <li>Dicionários.</li>\n",
        "</ol>"
      ]
    },
    {
      "cell_type": "markdown",
      "metadata": {
        "id": "SmoHgt-lwkpD"
      },
      "source": [
        "---"
      ]
    },
    {
      "cell_type": "markdown",
      "metadata": {
        "id": "GABI6OW8OfQ2"
      },
      "source": [
        "# **Exercícios**"
      ]
    },
    {
      "cell_type": "markdown",
      "metadata": {
        "id": "muD1vxozykSC"
      },
      "source": [
        "## 1\\. Listas"
      ]
    },
    {
      "cell_type": "markdown",
      "metadata": {
        "id": "ahrFfCuBxJKs"
      },
      "source": [
        "Criei uma lista chamada `filmes` com o nome dos 10 primeiros filmes mais bem avaliados no site no [IMDB](https://www.imdb.com/chart/top/). Imprima o resultado."
      ]
    },
    {
      "cell_type": "code",
      "metadata": {
        "id": "OgL6Hv3bzOHI",
        "colab": {
          "base_uri": "https://localhost:8080/"
        },
        "outputId": "0c08bfd9-a2ae-400b-c027-110bc1f7029f"
      },
      "source": [
        "filmes = ['1. Um Sonho de Liberdade', '2. O Poderoso Chefão', '3. Batman: O Cavaleiro das Trevas', '4. O Poderoso Chefão II', '5. 12 Homens e uma Sentença', '6. A Lista de Schindler', '7. O Senhor dos Anéis: O Retorno do Rei', '8. Pulp Fiction - Tempo de Violência', '9. O Senhor dos Anéis: A Sociedade do Anel', '10. Três Homens em Conflito']\n",
        "print(filmes)\n",
        "print(type(filmes))"
      ],
      "execution_count": null,
      "outputs": [
        {
          "output_type": "stream",
          "name": "stdout",
          "text": [
            "['1. Um Sonho de Liberdade', '2. O Poderoso Chefão', '3. Batman: O Cavaleiro das Trevas', '4. O Poderoso Chefão II', '5. 12 Homens e uma Sentença', '6. A Lista de Schindler', '7. O Senhor dos Anéis: O Retorno do Rei', '8. Pulp Fiction - Tempo de Violência', '9. O Senhor dos Anéis: A Sociedade do Anel', '10. Três Homens em Conflito']\n",
            "<class 'list'>\n"
          ]
        }
      ]
    },
    {
      "cell_type": "markdown",
      "metadata": {
        "id": "KI9zQRT2xa7m"
      },
      "source": [
        "Simule a movimentação do *ranking*. Utilize os métodos `insert` e `pop` para trocar a posição do primeiro e do segundo filme da lista. Imprima o resultado.\n",
        "\n"
      ]
    },
    {
      "cell_type": "code",
      "metadata": {
        "id": "zX3mA3_GzrXH",
        "colab": {
          "base_uri": "https://localhost:8080/"
        },
        "outputId": "fe95b5b2-b881-444c-d747-7d5182803c8d"
      },
      "source": [
        "primeiro_filme = filmes.pop(0)\n",
        "\n",
        "filmes.insert(1, primeiro_filme)\n",
        "print(filmes)"
      ],
      "execution_count": null,
      "outputs": [
        {
          "output_type": "stream",
          "name": "stdout",
          "text": [
            "['2. O Poderoso Chefão', '1. Um Sonho de Liberdade', '3. Batman: O Cavaleiro das Trevas', '4. O Poderoso Chefão II', '5. 12 Homens e uma Sentença', '6. A Lista de Schindler', '7. O Senhor dos Anéis: O Retorno do Rei', '8. Pulp Fiction - Tempo de Violência', '9. O Senhor dos Anéis: A Sociedade do Anel', '10. Três Homens em Conflito']\n"
          ]
        }
      ]
    },
    {
      "cell_type": "markdown",
      "metadata": {
        "id": "zMN1Q3jdwoJm"
      },
      "source": [
        "---"
      ]
    },
    {
      "cell_type": "markdown",
      "metadata": {
        "id": "lxa5L6uF0ZJE"
      },
      "source": [
        "## 2\\. Conjuntos"
      ]
    },
    {
      "cell_type": "markdown",
      "metadata": {
        "id": "9JahS2Kj0d5u"
      },
      "source": [
        "Aconteceu um erro no seu *ranking*. Simule a duplicação dos três últimos filmes da lista. Imprima o resultado."
      ]
    },
    {
      "cell_type": "code",
      "metadata": {
        "id": "BnjnLBNC6PGe",
        "colab": {
          "base_uri": "https://localhost:8080/"
        },
        "outputId": "7a4f7969-cc51-45f7-eea7-485e50e6a103"
      },
      "source": [
        "filmes = ['1. Um Sonho de Liberdade', '2. O Poderoso Chefão', '3. Batman: O Cavaleiro das Trevas', '4. O Poderoso Chefão II',\n",
        "          '5. 12 Homens e uma Sentença', '6. A Lista de Schindler', '7. O Senhor dos Anéis: O Retorno do Rei', '8. Pulp Fiction - Tempo de Violência',\n",
        "          '9. O Senhor dos Anéis: A Sociedade do Anel', '10. Três Homens em Conflito', '7. O Senhor dos Anéis: O Retorno do Rei',\n",
        "          '8. Pulp Fiction - Tempo de Violência', '9. O Senhor dos Anéis: A Sociedade do Anel', '10. Três Homens em Conflito']\n",
        "print(filmes)"
      ],
      "execution_count": null,
      "outputs": [
        {
          "output_type": "stream",
          "name": "stdout",
          "text": [
            "['1. Um Sonho de Liberdade', '2. O Poderoso Chefão', '3. Batman: O Cavaleiro das Trevas', '4. O Poderoso Chefão II', '5. 12 Homens e uma Sentença', '6. A Lista de Schindler', '7. O Senhor dos Anéis: O Retorno do Rei', '8. Pulp Fiction - Tempo de Violência', '9. O Senhor dos Anéis: A Sociedade do Anel', '10. Três Homens em Conflito', '7. O Senhor dos Anéis: O Retorno do Rei', '8. Pulp Fiction - Tempo de Violência', '9. O Senhor dos Anéis: A Sociedade do Anel', '10. Três Homens em Conflito']\n"
          ]
        }
      ]
    },
    {
      "cell_type": "markdown",
      "metadata": {
        "id": "suxTfCJB6ZiX"
      },
      "source": [
        "Utiliza a conversão `set` e `list` para remover os valores duplicados. Imprima o resultado."
      ]
    },
    {
      "cell_type": "code",
      "metadata": {
        "id": "ZvUGN-0n6joM",
        "colab": {
          "base_uri": "https://localhost:8080/"
        },
        "outputId": "4e6a3671-fa6e-44b6-d00a-09d7bb2a822e"
      },
      "source": [
        "filmes_sem_duplicacao = list(set(filmes))\n",
        "print(filmes_sem_duplicacao)"
      ],
      "execution_count": null,
      "outputs": [
        {
          "output_type": "stream",
          "name": "stdout",
          "text": [
            "['5. 12 Homens e uma Sentença', '7. O Senhor dos Anéis: O Retorno do Rei', '8. Pulp Fiction - Tempo de Violência', '2. O Poderoso Chefão', '10. Três Homens em Conflito', '3. Batman: O Cavaleiro das Trevas', '1. Um Sonho de Liberdade', '9. O Senhor dos Anéis: A Sociedade do Anel', '4. O Poderoso Chefão II', '6. A Lista de Schindler']\n"
          ]
        }
      ]
    },
    {
      "cell_type": "markdown",
      "metadata": {
        "id": "ShkK35eQ6pAM"
      },
      "source": [
        "---"
      ]
    },
    {
      "cell_type": "markdown",
      "metadata": {
        "id": "EL_FzmxL6rTv"
      },
      "source": [
        "## 3\\. Dicionários"
      ]
    },
    {
      "cell_type": "markdown",
      "metadata": {
        "id": "i8l0gFqRCpfT"
      },
      "source": [
        "Repita os exercícios da parte 1 (listas). Os elementos da lista `filmes` devem ser dicionários no seguinte formato: `{'nome': <nome-do-filme>, 'ano': <ano do filme>}, 'sinopse': <sinopse do filme>}`."
      ]
    },
    {
      "cell_type": "code",
      "metadata": {
        "id": "tu6MSFwGDnHv",
        "colab": {
          "base_uri": "https://localhost:8080/"
        },
        "outputId": "e6696bca-b64b-4921-d7d7-bc00921536cf"
      },
      "source": [
        "filmes = [\n",
        "{\n",
        "    'nome': '1. Um Sonho de Liberdade',\n",
        "    'ano': 1994,\n",
        "    'sinopse': 'Dois homens presos se reúnem ao longo de vários anos, encontrando consolo e eventual redenção através de atos de decência comum.'\n",
        "},\n",
        "\n",
        "{\n",
        "    'nome': '2. O Poderoso Chefão',\n",
        "    'ano': 1972 ,\n",
        "    'sinopse': 'O patriarca idoso de uma dinastia do crime organizado transfere o controle de seu império clandestino para seu filho relutante.'\n",
        "},\n",
        "\n",
        "{\n",
        "    'nome': '3. Batman: O Cavaleiro das Trevas',\n",
        "    'ano': 2008,\n",
        "    'sinopse': 'Agora com a ajuda do tenente Jim Gordon e do promotor público Harvey Dent, Batman tem tudo para banir o crime de Gotham City de uma vez por todas. Mas em breve, os três serão vítimas do Coringa'\n",
        "},\n",
        "\n",
        "{\n",
        "    'nome': '4. O Poderoso Chefão II',\n",
        "    'ano': 1974,\n",
        "    'sinopse': 'Em 1950, Michael Corleone, agora à frente da família, tenta expandir o negócio do crime a Las Vegas, Los Angeles e Cuba.'\n",
        "},\n",
        "\n",
        "{\n",
        "    'nome': '5. 12 Homens e uma Sentença',\n",
        "    'ano': 1957,\n",
        "    'sinopse': 'O julgamento de um assassinato em Nova Iorque é frustrado por um único membro, cujo ceticismo força o júri a considerar cuidadosamente as evidências antes de dar o veredito.'\n",
        "},\n",
        "\n",
        "{\n",
        "    'nome': '6. A Lista de Schindler',\n",
        "    'ano': 1993,\n",
        "    'sinopse': 'Na Polônia ocupada pelos alemães durante a Segunda Guerra Mundial, o industrial Oskar Schindler começa a ser preocupar com seus trabalhadores judeus depois de testemunhar sua perseguição.'\n",
        "},\n",
        "{\n",
        "    'nome': '7. O Senhor dos Anéis: O Retorno do Rei',\n",
        "    'ano': 2003 ,\n",
        "    'sinopse': 'Gandalf e Aragorn lideram o Mundo dos Homens contra o exército de Sauron para desviar o olhar de Frodo e Sam quando eles se aproximam á Montanha da Perdição com o Um Anel.'\n",
        "},\n",
        "\n",
        "{\n",
        "    'nome': '8. Pulp Fiction - Tempo de Violência',\n",
        "    'ano': 1994,\n",
        "    'sinopse': 'As vidas de dois assassinos da máfia, um boxeador, um gângster e sua esposa, e um par de bandidos se entrelaçam em quatro histórias de violência e redenção.'\n",
        "},\n",
        "\n",
        "{\n",
        "    'nome': '9. O Senhor dos Anéis: A Sociedade do Anel',\n",
        "    'ano': 2001,\n",
        "    'sinopse': 'Um manso hobbit do Condado e oito companheiros partem em uma jornada para destruir o poderoso Um Anel e salvar a Terra-média das Trevas.'\n",
        "},\n",
        "\n",
        "{\n",
        "    'nome': '10. Três Homens em Conflito',\n",
        "    'ano': 1966,\n",
        "    'sinopse': 'Um impostor se junta com dois homens para encontrar fortuna num remoto cemitério.'\n",
        "}\n",
        "\n",
        "]\n",
        "\n",
        "# Para cada \"filme\" em (lista)filmes (:)faca\n",
        "#   imprima o nome, ano e sinopse do filme\n",
        "for filme in filmes:\n",
        "    nome_sem_numeros = filme['nome'][3:]  # Utilizando slicing para remover os três primeiros caracteres\n",
        "    print(f\"Nome: {nome_sem_numeros}\")\n",
        "    print(f\"Ano: {filme['ano']}\")\n",
        "    print(f\"Sinopse: {filme['sinopse']}\")\n",
        "    print(\"\\n\")  # Adicionando uma linha em branco para separar os filmes\n"
      ],
      "execution_count": 1,
      "outputs": [
        {
          "output_type": "stream",
          "name": "stdout",
          "text": [
            "Nome: Um Sonho de Liberdade\n",
            "Ano: 1994\n",
            "Sinopse: Dois homens presos se reúnem ao longo de vários anos, encontrando consolo e eventual redenção através de atos de decência comum.\n",
            "\n",
            "\n",
            "Nome: O Poderoso Chefão\n",
            "Ano: 1972\n",
            "Sinopse: O patriarca idoso de uma dinastia do crime organizado transfere o controle de seu império clandestino para seu filho relutante.\n",
            "\n",
            "\n",
            "Nome: Batman: O Cavaleiro das Trevas\n",
            "Ano: 2008\n",
            "Sinopse: Agora com a ajuda do tenente Jim Gordon e do promotor público Harvey Dent, Batman tem tudo para banir o crime de Gotham City de uma vez por todas. Mas em breve, os três serão vítimas do Coringa\n",
            "\n",
            "\n",
            "Nome: O Poderoso Chefão II\n",
            "Ano: 1974\n",
            "Sinopse: Em 1950, Michael Corleone, agora à frente da família, tenta expandir o negócio do crime a Las Vegas, Los Angeles e Cuba.\n",
            "\n",
            "\n",
            "Nome: 12 Homens e uma Sentença\n",
            "Ano: 1957\n",
            "Sinopse: O julgamento de um assassinato em Nova Iorque é frustrado por um único membro, cujo ceticismo força o júri a considerar cuidadosamente as evidências antes de dar o veredito.\n",
            "\n",
            "\n",
            "Nome: A Lista de Schindler\n",
            "Ano: 1993\n",
            "Sinopse: Na Polônia ocupada pelos alemães durante a Segunda Guerra Mundial, o industrial Oskar Schindler começa a ser preocupar com seus trabalhadores judeus depois de testemunhar sua perseguição.\n",
            "\n",
            "\n",
            "Nome: O Senhor dos Anéis: O Retorno do Rei\n",
            "Ano: 2003\n",
            "Sinopse: Gandalf e Aragorn lideram o Mundo dos Homens contra o exército de Sauron para desviar o olhar de Frodo e Sam quando eles se aproximam á Montanha da Perdição com o Um Anel.\n",
            "\n",
            "\n",
            "Nome: Pulp Fiction - Tempo de Violência\n",
            "Ano: 1994\n",
            "Sinopse: As vidas de dois assassinos da máfia, um boxeador, um gângster e sua esposa, e um par de bandidos se entrelaçam em quatro histórias de violência e redenção.\n",
            "\n",
            "\n",
            "Nome: O Senhor dos Anéis: A Sociedade do Anel\n",
            "Ano: 2001\n",
            "Sinopse: Um manso hobbit do Condado e oito companheiros partem em uma jornada para destruir o poderoso Um Anel e salvar a Terra-média das Trevas.\n",
            "\n",
            "\n",
            "Nome:  Três Homens em Conflito\n",
            "Ano: 1966\n",
            "Sinopse: Um impostor se junta com dois homens para encontrar fortuna num remoto cemitério.\n",
            "\n",
            "\n"
          ]
        }
      ]
    }
  ]
}